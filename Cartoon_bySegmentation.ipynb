{
 "cells": [
  {
   "cell_type": "code",
   "execution_count": 1,
   "metadata": {},
   "outputs": [],
   "source": [
    "import numpy as np\n",
    "import cv2\n",
    "from PIL import Image\n",
    "import glob\n",
    "import matplotlib.pyplot as plt\n",
    "from random import randint\n",
    "from skimage import *\n",
    "#import skimage.segmentation as seg\n",
    "#import skimage.filters as filters \n",
    "#import skimage.draw as draw\n",
    "#import skimage.color as color"
   ]
  },
  {
   "cell_type": "markdown",
   "metadata": {},
   "source": [
    "# -------------------------------------------------------------\n",
    "# Image resize, Face detetion and cropping\n",
    "# -------------------------------------------------------------"
   ]
  },
  {
   "cell_type": "code",
   "execution_count": 2,
   "metadata": {},
   "outputs": [
    {
     "name": "stdout",
     "output_type": "stream",
     "text": [
      "['C:\\\\Users\\\\anshu\\\\minor_notebook\\\\Front\\\\check.jpg', 'C:\\\\Users\\\\anshu\\\\minor_notebook\\\\Front\\\\pat.jpg', 'C:\\\\Users\\\\anshu\\\\minor_notebook\\\\Front\\\\personne01146+0+0.jpg', 'C:\\\\Users\\\\anshu\\\\minor_notebook\\\\Front\\\\personne01246+0+0.jpg', 'C:\\\\Users\\\\anshu\\\\minor_notebook\\\\Front\\\\personne02146+0+0.jpg', 'C:\\\\Users\\\\anshu\\\\minor_notebook\\\\Front\\\\personne02246+0+0.jpg', 'C:\\\\Users\\\\anshu\\\\minor_notebook\\\\Front\\\\personne03146+0+0.jpg', 'C:\\\\Users\\\\anshu\\\\minor_notebook\\\\Front\\\\personne03246+0+0.jpg', 'C:\\\\Users\\\\anshu\\\\minor_notebook\\\\Front\\\\personne04146+0+0.jpg', 'C:\\\\Users\\\\anshu\\\\minor_notebook\\\\Front\\\\personne04246+0+0.jpg', 'C:\\\\Users\\\\anshu\\\\minor_notebook\\\\Front\\\\personne05146+0+0.jpg', 'C:\\\\Users\\\\anshu\\\\minor_notebook\\\\Front\\\\personne05246+0+0.jpg', 'C:\\\\Users\\\\anshu\\\\minor_notebook\\\\Front\\\\personne06146+0+0.jpg', 'C:\\\\Users\\\\anshu\\\\minor_notebook\\\\Front\\\\personne06246+0+0.jpg', 'C:\\\\Users\\\\anshu\\\\minor_notebook\\\\Front\\\\personne07146+0+0.jpg', 'C:\\\\Users\\\\anshu\\\\minor_notebook\\\\Front\\\\personne07246+0+0.jpg', 'C:\\\\Users\\\\anshu\\\\minor_notebook\\\\Front\\\\personne08146+0+0.jpg', 'C:\\\\Users\\\\anshu\\\\minor_notebook\\\\Front\\\\personne08246+0+0.jpg', 'C:\\\\Users\\\\anshu\\\\minor_notebook\\\\Front\\\\personne09146+0+0.jpg', 'C:\\\\Users\\\\anshu\\\\minor_notebook\\\\Front\\\\personne09246+0+0.jpg', 'C:\\\\Users\\\\anshu\\\\minor_notebook\\\\Front\\\\personne10146+0+0.jpg', 'C:\\\\Users\\\\anshu\\\\minor_notebook\\\\Front\\\\personne10246+0+0.jpg', 'C:\\\\Users\\\\anshu\\\\minor_notebook\\\\Front\\\\personne11146+0+0.jpg', 'C:\\\\Users\\\\anshu\\\\minor_notebook\\\\Front\\\\personne11246+0+0.jpg', 'C:\\\\Users\\\\anshu\\\\minor_notebook\\\\Front\\\\personne12146+0+0.jpg', 'C:\\\\Users\\\\anshu\\\\minor_notebook\\\\Front\\\\personne12246+0+0.jpg', 'C:\\\\Users\\\\anshu\\\\minor_notebook\\\\Front\\\\personne13146+0+0.jpg', 'C:\\\\Users\\\\anshu\\\\minor_notebook\\\\Front\\\\personne13246+0+0.jpg', 'C:\\\\Users\\\\anshu\\\\minor_notebook\\\\Front\\\\personne14146+0+0.jpg', 'C:\\\\Users\\\\anshu\\\\minor_notebook\\\\Front\\\\personne14246+0+0.jpg', 'C:\\\\Users\\\\anshu\\\\minor_notebook\\\\Front\\\\personne15146+0+0.jpg', 'C:\\\\Users\\\\anshu\\\\minor_notebook\\\\Front\\\\personne15246+0+0.jpg', 'C:\\\\Users\\\\anshu\\\\minor_notebook\\\\Front\\\\r1.jpg', 'C:\\\\Users\\\\anshu\\\\minor_notebook\\\\Front\\\\raj1.jpg', 'C:\\\\Users\\\\anshu\\\\minor_notebook\\\\Front\\\\sak1.jpg', 'C:\\\\Users\\\\anshu\\\\minor_notebook\\\\Front\\\\sh1.jpg', 'C:/Users/anshu/minor_notebook/profile\\\\pat1.jpg', 'C:/Users/anshu/minor_notebook/profile\\\\pat2.jpg', 'C:/Users/anshu/minor_notebook/profile\\\\pat3.jpg', 'C:/Users/anshu/minor_notebook/profile\\\\pat4.jpg', 'C:/Users/anshu/minor_notebook/profile\\\\person01128-15-75.jpg', 'C:/Users/anshu/minor_notebook/profile\\\\person01139-15+90.jpg', 'C:/Users/anshu/minor_notebook/profile\\\\person02115-30-75.jpg', 'C:/Users/anshu/minor_notebook/profile\\\\person02124-30+60.jpg', 'C:/Users/anshu/minor_notebook/profile\\\\person03128-15-75.jpg', 'C:/Users/anshu/minor_notebook/profile\\\\person03139-15+90.jpg', 'C:/Users/anshu/minor_notebook/profile\\\\person04113-60+90.jpg', 'C:/Users/anshu/minor_notebook/profile\\\\person04114-30-90.jpg', 'C:/Users/anshu/minor_notebook/profile\\\\person05115-30-75.jpg', 'C:/Users/anshu/minor_notebook/profile\\\\person05125-30+75.jpg', 'C:/Users/anshu/minor_notebook/profile\\\\person06115-30-75.jpg', 'C:/Users/anshu/minor_notebook/profile\\\\person06125-30+75.jpg', 'C:/Users/anshu/minor_notebook/profile\\\\person07114-30-90.jpg', 'C:/Users/anshu/minor_notebook/profile\\\\person07123-30+45.jpg', 'C:/Users/anshu/minor_notebook/profile\\\\person08116-30-60.jpg', 'C:/Users/anshu/minor_notebook/profile\\\\person08138-15+75.jpg', 'C:/Users/anshu/minor_notebook/profile\\\\person09114-30-90.jpg', 'C:/Users/anshu/minor_notebook/profile\\\\person09125-30+75.jpg', 'C:/Users/anshu/minor_notebook/profile\\\\person10115-30-75.jpg', 'C:/Users/anshu/minor_notebook/profile\\\\person10138-15+75.jpg', 'C:/Users/anshu/minor_notebook/profile\\\\person11114-30-90.jpg', 'C:/Users/anshu/minor_notebook/profile\\\\person11117-30-45.jpg', 'C:/Users/anshu/minor_notebook/profile\\\\person11123-30+45.jpg', 'C:/Users/anshu/minor_notebook/profile\\\\person11126-30+90.jpg', 'C:/Users/anshu/minor_notebook/profile\\\\person12114-30-90.jpg', 'C:/Users/anshu/minor_notebook/profile\\\\person12117-30-45.jpg', 'C:/Users/anshu/minor_notebook/profile\\\\person12122-30+30.jpg', 'C:/Users/anshu/minor_notebook/profile\\\\person12126-30+90.jpg', 'C:/Users/anshu/minor_notebook/profile\\\\person13114-30-90.jpg', 'C:/Users/anshu/minor_notebook/profile\\\\person13117-30-45.jpg', 'C:/Users/anshu/minor_notebook/profile\\\\person13123-30+45.jpg', 'C:/Users/anshu/minor_notebook/profile\\\\person13126-30+90.jpg', 'C:/Users/anshu/minor_notebook/profile\\\\person14117-30-45.jpg', 'C:/Users/anshu/minor_notebook/profile\\\\person14123-30+45.jpg', 'C:/Users/anshu/minor_notebook/profile\\\\person14126-30+90.jpg', 'C:/Users/anshu/minor_notebook/profile\\\\person14127-15-90.jpg', 'C:/Users/anshu/minor_notebook/profile\\\\person15136-15+45.jpg', 'C:/Users/anshu/minor_notebook/profile\\\\person15139-15+90.jpg', 'C:/Users/anshu/minor_notebook/profile\\\\person15145+0-15.jpg', 'C:/Users/anshu/minor_notebook/profile\\\\person15153+15-90.jpg', 'C:/Users/anshu/minor_notebook/profile\\\\r2.jpg', 'C:/Users/anshu/minor_notebook/profile\\\\r3.jpg', 'C:/Users/anshu/minor_notebook/profile\\\\r4.jpg', 'C:/Users/anshu/minor_notebook/profile\\\\r5.jpg', 'C:/Users/anshu/minor_notebook/profile\\\\raj2.jpg', 'C:/Users/anshu/minor_notebook/profile\\\\raj3.jpg', 'C:/Users/anshu/minor_notebook/profile\\\\raj4.jpg', 'C:/Users/anshu/minor_notebook/profile\\\\raj5.jpg', 'C:/Users/anshu/minor_notebook/profile\\\\sak2.jpg', 'C:/Users/anshu/minor_notebook/profile\\\\sak3.jpg', 'C:/Users/anshu/minor_notebook/profile\\\\sak4.jpg', 'C:/Users/anshu/minor_notebook/profile\\\\sak5.jpg', 'C:/Users/anshu/minor_notebook/profile\\\\sh2.jpg', 'C:/Users/anshu/minor_notebook/profile\\\\sh3.jpg', 'C:/Users/anshu/minor_notebook/profile\\\\sh4.jpg', 'C:/Users/anshu/minor_notebook/profile\\\\sh5.jpg']\n",
      "(540, 960)\n",
      "(4128, 2006)\n",
      "(384, 288)\n",
      "(384, 288)\n",
      "(384, 288)\n",
      "(384, 288)\n",
      "(384, 288)\n",
      "(384, 288)\n",
      "(384, 288)\n",
      "(384, 288)\n",
      "(384, 288)\n",
      "(384, 288)\n",
      "(384, 288)\n",
      "(384, 288)\n",
      "(384, 288)\n",
      "(384, 288)\n",
      "(384, 288)\n",
      "(384, 288)\n",
      "(384, 288)\n",
      "(384, 288)\n",
      "(384, 288)\n",
      "(384, 288)\n",
      "(384, 288)\n",
      "(384, 288)\n",
      "(384, 288)\n",
      "(384, 288)\n",
      "(384, 288)\n",
      "(384, 288)\n",
      "(384, 288)\n",
      "(384, 288)\n",
      "(384, 288)\n",
      "(384, 288)\n",
      "(3264, 2448)\n",
      "(4128, 2006)\n",
      "(4128, 2006)\n",
      "(4128, 2006)\n",
      "(4128, 2006)\n",
      "(4128, 2006)\n",
      "(4128, 2006)\n",
      "(4128, 2006)\n",
      "(384, 288)\n",
      "(384, 288)\n",
      "(384, 288)\n",
      "(384, 288)\n",
      "(384, 288)\n",
      "(384, 288)\n",
      "(384, 288)\n",
      "(384, 288)\n",
      "(384, 288)\n",
      "(384, 288)\n",
      "(384, 288)\n",
      "(384, 288)\n",
      "(384, 288)\n",
      "(384, 288)\n",
      "(384, 288)\n",
      "(384, 288)\n",
      "(384, 288)\n",
      "(384, 288)\n",
      "(384, 288)\n",
      "(384, 288)\n",
      "(384, 288)\n",
      "(384, 288)\n",
      "(384, 288)\n",
      "(384, 288)\n",
      "(384, 288)\n",
      "(384, 288)\n",
      "(384, 288)\n",
      "(384, 288)\n",
      "(384, 288)\n",
      "(384, 288)\n",
      "(384, 288)\n",
      "(384, 288)\n",
      "(384, 288)\n",
      "(384, 288)\n",
      "(384, 288)\n",
      "(384, 288)\n",
      "(384, 288)\n",
      "(384, 288)\n",
      "(384, 288)\n",
      "(384, 288)\n",
      "(3264, 2448)\n",
      "(3264, 2448)\n",
      "(3264, 2448)\n",
      "(3264, 2448)\n",
      "(4128, 2006)\n",
      "(4128, 2006)\n",
      "(4128, 2006)\n",
      "(4128, 2006)\n",
      "(4128, 2006)\n",
      "(4128, 2006)\n",
      "(4128, 2006)\n",
      "(4128, 2006)\n",
      "(4128, 2006)\n",
      "(4128, 2006)\n",
      "(4128, 2006)\n",
      "(4128, 2006)\n"
     ]
    }
   ],
   "source": [
    "initial_images=[]\n",
    "for image_file in glob.glob(\"C:\\\\Users\\\\anshu\\\\minor_notebook\\\\Front\\\\*\"):\n",
    "    initial_images.append(image_file)\n",
    "for image_file in glob.glob(\"C:/Users/anshu/minor_notebook/profile/*\"):\n",
    "    initial_images.append(image_file)\n",
    "print(initial_images)\n",
    "\n",
    "i=0\n",
    "baseheight= 540\n",
    "for file in initial_images:\n",
    "    I= Image.open(file)\n",
    "    print(I.size)\n",
    "    hpercent= (baseheight/float(I.size[1]))\n",
    "    wsize= int((float(I.size[0]) * float(hpercent)))\n",
    "    I= I.resize((wsize,baseheight),Image.ANTIALIAS)\n",
    "    print(I.size)\n",
    "    I.save('C:/Users/anshu/Pictures/resize_new/res'+str(i)+\".jpg\")\n",
    "    i=i+1"
   ]
  },
  {
   "cell_type": "code",
   "execution_count": 3,
   "metadata": {},
   "outputs": [
    {
     "name": "stdout",
     "output_type": "stream",
     "text": [
      "['Front\\\\check.jpg', 'Front\\\\pat.jpg', 'Front\\\\personne01146+0+0.jpg', 'Front\\\\personne01246+0+0.jpg', 'Front\\\\personne02146+0+0.jpg', 'Front\\\\personne02246+0+0.jpg', 'Front\\\\personne03146+0+0.jpg', 'Front\\\\personne03246+0+0.jpg', 'Front\\\\personne04146+0+0.jpg', 'Front\\\\personne04246+0+0.jpg', 'Front\\\\personne05146+0+0.jpg', 'Front\\\\personne05246+0+0.jpg', 'Front\\\\personne06146+0+0.jpg', 'Front\\\\personne06246+0+0.jpg', 'Front\\\\personne07146+0+0.jpg', 'Front\\\\personne07246+0+0.jpg', 'Front\\\\personne08146+0+0.jpg', 'Front\\\\personne08246+0+0.jpg', 'Front\\\\personne09146+0+0.jpg', 'Front\\\\personne09246+0+0.jpg', 'Front\\\\personne10146+0+0.jpg', 'Front\\\\personne10246+0+0.jpg', 'Front\\\\personne11146+0+0.jpg', 'Front\\\\personne11246+0+0.jpg', 'Front\\\\personne12146+0+0.jpg', 'Front\\\\personne12246+0+0.jpg', 'Front\\\\personne13146+0+0.jpg', 'Front\\\\personne13246+0+0.jpg', 'Front\\\\personne14146+0+0.jpg', 'Front\\\\personne14246+0+0.jpg', 'Front\\\\personne15146+0+0.jpg', 'Front\\\\personne15246+0+0.jpg', 'Front\\\\r1.jpg', 'Front\\\\raj1.jpg', 'Front\\\\sak1.jpg', 'Front\\\\sh1.jpg']\n"
     ]
    }
   ],
   "source": [
    "#frontal faces\n",
    "frontal_list=[]\n",
    "for file in glob.glob(\"Front/*\"):\n",
    "    frontal_list.append(file)\n",
    "print(frontal_list)"
   ]
  },
  {
   "cell_type": "code",
   "execution_count": 4,
   "metadata": {},
   "outputs": [
    {
     "name": "stdout",
     "output_type": "stream",
     "text": [
      "['profile\\\\pat1.jpg', 'profile\\\\pat2.jpg', 'profile\\\\pat3.jpg', 'profile\\\\pat4.jpg', 'profile\\\\person01128-15-75.jpg', 'profile\\\\person01139-15+90.jpg', 'profile\\\\person02115-30-75.jpg', 'profile\\\\person02124-30+60.jpg', 'profile\\\\person03128-15-75.jpg', 'profile\\\\person03139-15+90.jpg', 'profile\\\\person04113-60+90.jpg', 'profile\\\\person04114-30-90.jpg', 'profile\\\\person05115-30-75.jpg', 'profile\\\\person05125-30+75.jpg', 'profile\\\\person06115-30-75.jpg', 'profile\\\\person06125-30+75.jpg', 'profile\\\\person07114-30-90.jpg', 'profile\\\\person07123-30+45.jpg', 'profile\\\\person08116-30-60.jpg', 'profile\\\\person08138-15+75.jpg', 'profile\\\\person09114-30-90.jpg', 'profile\\\\person09125-30+75.jpg', 'profile\\\\person10115-30-75.jpg', 'profile\\\\person10138-15+75.jpg', 'profile\\\\person11114-30-90.jpg', 'profile\\\\person11117-30-45.jpg', 'profile\\\\person11123-30+45.jpg', 'profile\\\\person11126-30+90.jpg', 'profile\\\\person12114-30-90.jpg', 'profile\\\\person12117-30-45.jpg', 'profile\\\\person12122-30+30.jpg', 'profile\\\\person12126-30+90.jpg', 'profile\\\\person13114-30-90.jpg', 'profile\\\\person13117-30-45.jpg', 'profile\\\\person13123-30+45.jpg', 'profile\\\\person13126-30+90.jpg', 'profile\\\\person14117-30-45.jpg', 'profile\\\\person14123-30+45.jpg', 'profile\\\\person14126-30+90.jpg', 'profile\\\\person14127-15-90.jpg', 'profile\\\\person15136-15+45.jpg', 'profile\\\\person15139-15+90.jpg', 'profile\\\\person15145+0-15.jpg', 'profile\\\\person15153+15-90.jpg', 'profile\\\\r2.jpg', 'profile\\\\r3.jpg', 'profile\\\\r4.jpg', 'profile\\\\r5.jpg', 'profile\\\\raj2.jpg', 'profile\\\\raj3.jpg', 'profile\\\\raj4.jpg', 'profile\\\\raj5.jpg', 'profile\\\\sak2.jpg', 'profile\\\\sak3.jpg', 'profile\\\\sak4.jpg', 'profile\\\\sak5.jpg', 'profile\\\\sh2.jpg', 'profile\\\\sh3.jpg', 'profile\\\\sh4.jpg', 'profile\\\\sh5.jpg']\n"
     ]
    }
   ],
   "source": [
    "#profile faces\n",
    "prof_list=[]\n",
    "for file in glob.glob(\"profile/*\"):\n",
    "    prof_list.append(file)\n",
    "print(prof_list)"
   ]
  },
  {
   "cell_type": "code",
   "execution_count": 5,
   "metadata": {},
   "outputs": [],
   "source": [
    "def frontal(initial_images):\n",
    "    count= 0\n",
    "    ncount=0\n",
    "    for f in initial_images:\n",
    "        img= cv2.imread(f,cv2.IMREAD_COLOR)\n",
    "        icopy= img.copy()\n",
    "        itest= cv2.cvtColor(icopy,cv2.COLOR_BGR2GRAY)\n",
    "\n",
    "        faceCascade= cv2.CascadeClassifier('haarcascade_frontalface_default.xml')\n",
    "\n",
    "        face= faceCascade.detectMultiScale(itest,scaleFactor=2,minNeighbors= 3)\n",
    "\n",
    "        if(len(face)==0):\n",
    "            ncount=ncount+1\n",
    "            print('frontal face not found')\n",
    "        else:count= count+1;print('frontal face detected');\n",
    "\n",
    "\n",
    "        for (x,y,w,h) in face:\n",
    "            face_detect= cv2.rectangle(itest,(x,y),(x+w,y+h),(0,255,0),2)\n",
    "            grey= itest[y:y+h,x:x+w]\n",
    "            color= itest[y:y+h,x:x+w]\n",
    "            extract= img[y-20:y+h+20,x-20:x+w+20]\n",
    "            cv2.imwrite(\"extracted/f\"+str(randint(0,1000))+\".jpg\",extract)\n",
    "            plt.imshow(face_detect)\n",
    "            plt.show()\n",
    "    print('total number of frontal faces detected is : ',count)\n",
    "    print('total number of undetected faces :',ncount)\n",
    "    profile(initial_images)\n",
    "    return"
   ]
  },
  {
   "cell_type": "code",
   "execution_count": 6,
   "metadata": {},
   "outputs": [],
   "source": [
    "def profile(initial_images):\n",
    "    pcount=0\n",
    "    upcount=0\n",
    "    for pro in initial_images:\n",
    "        prf= cv2.imread(pro,cv2.IMREAD_COLOR)\n",
    "        pcopy= prf.copy()\n",
    "        ptest= cv2.cvtColor(pcopy,cv2.COLOR_BGR2GRAY)\n",
    "\n",
    "        prof_cascade= cv2.CascadeClassifier('haarcascade_profileface.xml')\n",
    "\n",
    "        p= prof_cascade.detectMultiScale(ptest,scaleFactor= 2,minNeighbors=2)\n",
    "\n",
    "        if(len(p)==0):\n",
    "            upcount=upcount+1\n",
    "            print(\"face not found\")\n",
    "        else: pcount=pcount+1;print(\"face detected\");\n",
    "\n",
    "        for (px,py,pw,ph) in p:\n",
    "            pface= cv2.rectangle(ptest,(px,py),(px+pw,py+ph),(0,255,0),2)\n",
    "            pgrey= pface[py:px+ph,px:px+pw]\n",
    "            pcolor= pface[py:px+ph,px:px+pw]\n",
    "            pextract= prf[py-20:py+ph+20,px-20:px+pw+20]\n",
    "            cv2.imwrite(\"extracted/p\"+str(randint(0,1000))+\".jpg\",pextract)\n",
    "            plt.imshow(pface)\n",
    "            plt.show()\n",
    "\n",
    "    print('total number of profile faces detected is :',pcount )\n",
    "    print('total number of undetected profile faces is :',upcount)\n",
    "    return"
   ]
  },
  {
   "cell_type": "code",
   "execution_count": null,
   "metadata": {},
   "outputs": [],
   "source": [
    "#calling the frontal face detection method\n",
    "frontal(initial_images)"
   ]
  },
  {
   "cell_type": "markdown",
   "metadata": {},
   "source": [
    "### total number of frontal faces = 36\n",
    "### number of faces detected correctly = 28\n",
    "### accuracy = 77.77%\n",
    "\n",
    "### total number of profile faces = 60\n",
    "### number of faces detected correcty = 18\n",
    "### only right profile faces detected.\n",
    "### accuracy = 30%"
   ]
  },
  {
   "cell_type": "markdown",
   "metadata": {},
   "source": [
    "# ----------------------------------------------------------------------------\n",
    "# face cartoon\n",
    "# ----------------------------------------------------------------------------"
   ]
  },
  {
   "cell_type": "code",
   "execution_count": 8,
   "metadata": {},
   "outputs": [
    {
     "name": "stdout",
     "output_type": "stream",
     "text": [
      "122\n",
      "['extracted\\\\f100.jpg', 'extracted\\\\f106.jpg', 'extracted\\\\f114.jpg', 'extracted\\\\f129.jpg', 'extracted\\\\f137.jpg', 'extracted\\\\f149.jpg', 'extracted\\\\f165.jpg', 'extracted\\\\f171.jpg', 'extracted\\\\f174.jpg', 'extracted\\\\f208.jpg', 'extracted\\\\f211.jpg', 'extracted\\\\f216.jpg', 'extracted\\\\f246.jpg', 'extracted\\\\f265.jpg', 'extracted\\\\f269.jpg', 'extracted\\\\f282.jpg', 'extracted\\\\f312.jpg', 'extracted\\\\f330.jpg', 'extracted\\\\f34.jpg', 'extracted\\\\f343.jpg', 'extracted\\\\f359.jpg', 'extracted\\\\f362.jpg', 'extracted\\\\f388.jpg', 'extracted\\\\f409.jpg', 'extracted\\\\f440.jpg', 'extracted\\\\f450.jpg', 'extracted\\\\f453.jpg', 'extracted\\\\f460.jpg', 'extracted\\\\f471.jpg', 'extracted\\\\f490.jpg', 'extracted\\\\f502.jpg', 'extracted\\\\f522.jpg', 'extracted\\\\f529.jpg', 'extracted\\\\f549.jpg', 'extracted\\\\f558.jpg', 'extracted\\\\f571.jpg', 'extracted\\\\f574.jpg', 'extracted\\\\f575.jpg', 'extracted\\\\f582.jpg', 'extracted\\\\f587.jpg', 'extracted\\\\f592.jpg', 'extracted\\\\f601.jpg', 'extracted\\\\f605.jpg', 'extracted\\\\f607.jpg', 'extracted\\\\f617.jpg', 'extracted\\\\f629.jpg', 'extracted\\\\f643.jpg', 'extracted\\\\f661.jpg', 'extracted\\\\f672.jpg', 'extracted\\\\f69.jpg', 'extracted\\\\f71.jpg', 'extracted\\\\f714.jpg', 'extracted\\\\f715.jpg', 'extracted\\\\f718.jpg', 'extracted\\\\f726.jpg', 'extracted\\\\f744.jpg', 'extracted\\\\f772.jpg', 'extracted\\\\f778.jpg', 'extracted\\\\f804.jpg', 'extracted\\\\f807.jpg', 'extracted\\\\f812.jpg', 'extracted\\\\f815.jpg', 'extracted\\\\f839.jpg', 'extracted\\\\f841.jpg', 'extracted\\\\f842.jpg', 'extracted\\\\f844.jpg', 'extracted\\\\f858.jpg', 'extracted\\\\f869.jpg', 'extracted\\\\f88.jpg', 'extracted\\\\f884.jpg', 'extracted\\\\f894.jpg', 'extracted\\\\f906.jpg', 'extracted\\\\f919.jpg', 'extracted\\\\f927.jpg', 'extracted\\\\f936.jpg', 'extracted\\\\f938.jpg', 'extracted\\\\f943.jpg', 'extracted\\\\f957.jpg', 'extracted\\\\f966.jpg', 'extracted\\\\f983.jpg', 'extracted\\\\p124.jpg', 'extracted\\\\p134.jpg', 'extracted\\\\p145.jpg', 'extracted\\\\p167.jpg', 'extracted\\\\p177.jpg', 'extracted\\\\p178.jpg', 'extracted\\\\p193.jpg', 'extracted\\\\p267.jpg', 'extracted\\\\p285.jpg', 'extracted\\\\p338.jpg', 'extracted\\\\p346.jpg', 'extracted\\\\p367.jpg', 'extracted\\\\p401.jpg', 'extracted\\\\p410.jpg', 'extracted\\\\p440.jpg', 'extracted\\\\p484.jpg', 'extracted\\\\p500.jpg', 'extracted\\\\p505.jpg', 'extracted\\\\p532.jpg', 'extracted\\\\p541.jpg', 'extracted\\\\p56.jpg', 'extracted\\\\p58.jpg', 'extracted\\\\p587.jpg', 'extracted\\\\p608.jpg', 'extracted\\\\p614.jpg', 'extracted\\\\p622.jpg', 'extracted\\\\p677.jpg', 'extracted\\\\p680.jpg', 'extracted\\\\p686.jpg', 'extracted\\\\p706.jpg', 'extracted\\\\p714.jpg', 'extracted\\\\p716.jpg', 'extracted\\\\p722.jpg', 'extracted\\\\p725.jpg', 'extracted\\\\p853.jpg', 'extracted\\\\p861.jpg', 'extracted\\\\p872.jpg', 'extracted\\\\p897.jpg', 'extracted\\\\p929.jpg', 'extracted\\\\p969.jpg', 'extracted\\\\p973.jpg', 'extracted\\\\p985.jpg']\n"
     ]
    }
   ],
   "source": [
    "extracted_images= []\n",
    "for file in glob.glob(\"extracted/*\"):\n",
    "    extracted_images.append(file)\n",
    "print(len(extracted_images))\n",
    "print(extracted_images)"
   ]
  },
  {
   "cell_type": "code",
   "execution_count": 9,
   "metadata": {},
   "outputs": [],
   "source": [
    "def image_show(image, nrows=1, ncols=1, cmap='gray'):\n",
    "    fig, ax = plt.subplots(nrows=nrows, ncols=ncols, figsize=(14, 14))\n",
    "    ax.imshow(image, cmap='gray')\n",
    "    ax.axis('off')\n",
    "    return fig, ax"
   ]
  },
  {
   "cell_type": "code",
   "execution_count": 10,
   "metadata": {},
   "outputs": [],
   "source": [
    "def image_overlay(z,image):\n",
    "    image= cv2.fastNlMeansDenoising(image,50,7,21)\n",
    "    org= image\n",
    "    image= cv2.cvtColor(image,cv2.COLOR_BGR2GRAY)\n",
    "    ed= cv2.adaptiveThreshold(image,255,cv2.ADAPTIVE_THRESH_MEAN_C,cv2.THRESH_BINARY,15,3)\n",
    "    ed= cv2.fastNlMeansDenoising(ed,10,7,21)\n",
    "    ed= cv2.fastNlMeansDenoising(ed,50,7,21)\n",
    "    ed= cv2.cvtColor(ed, cv2.COLOR_GRAY2RGB)\n",
    "    alpha= 0.25\n",
    "    beta= (1-alpha)\n",
    "    dst= cv2.addWeighted(z,0.9,ed,0.25,0.0)#overlaying images on top of each other\n",
    "    dst= cv2.cvtColor(dst,cv2.COLOR_BGR2RGB)\n",
    "    #cv2.imwrite(\"cartoons/cartoon\"+str(randint(0,1000))+\".jpg\",dst)\n",
    "    cv2.imwrite(\"cartoon_new1/cartoon\"+str(randint(0,1000))+\".jpg\",dst)\n",
    "\n",
    "    return"
   ]
  },
  {
   "cell_type": "code",
   "execution_count": 11,
   "metadata": {},
   "outputs": [],
   "source": [
    "import skimage.color as color\n",
    "import skimage.segmentation as seg\n",
    "for file in extracted_images:\n",
    "    image= cv2.imread(file)\n",
    "    image= cv2.cvtColor(image,cv2.COLOR_BGR2RGB)\n",
    "    image_grey= color.rgb2gray(image)\n",
    "    #image_show(image_grey)\n",
    "    image_slic = seg.slic(image,n_segments=(1024))# segmentation of the image using k-means clustering\n",
    "    z=color.label2rgb(image_slic, image, kind='avg')# coloring of the image usign the color labels generated in the previous step\n",
    "    image_overlay(z,image)"
   ]
  },
  {
   "cell_type": "code",
   "execution_count": null,
   "metadata": {},
   "outputs": [],
   "source": []
  }
 ],
 "metadata": {
  "kernelspec": {
   "display_name": "Python 3",
   "language": "python",
   "name": "python3"
  },
  "language_info": {
   "codemirror_mode": {
    "name": "ipython",
    "version": 3
   },
   "file_extension": ".py",
   "mimetype": "text/x-python",
   "name": "python",
   "nbconvert_exporter": "python",
   "pygments_lexer": "ipython3",
   "version": "3.6.5"
  }
 },
 "nbformat": 4,
 "nbformat_minor": 2
}
