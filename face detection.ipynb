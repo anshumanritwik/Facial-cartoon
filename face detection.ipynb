{
 "cells": [
  {
   "cell_type": "code",
   "execution_count": 1,
   "metadata": {},
   "outputs": [],
   "source": [
    "import numpy as np\n",
    "import cv2\n",
    "import glob\n",
    "from matplotlib import pyplot as plt"
   ]
  },
  {
   "cell_type": "code",
   "execution_count": 8,
   "metadata": {},
   "outputs": [],
   "source": [
    "#frontal faces\n",
    "file_list=[]\n",
    "for file in glob.glob(\"Front/*\"):\n",
    "    file_list.append(file)"
   ]
  },
  {
   "cell_type": "code",
   "execution_count": 20,
   "metadata": {},
   "outputs": [],
   "source": [
    "#profile faces\n",
    "prof_list=[]\n",
    "for file in glob.glob(\"profile/*\"):\n",
    "    prof_list.append(file)"
   ]
  },
  {
   "cell_type": "code",
   "execution_count": null,
   "metadata": {},
   "outputs": [],
   "source": [
    "#for frontal faces\n",
    "\n",
    "#multiscale function is used to detect objects. Here it is associated with the face and eye hence, it sticks to detecting the\n",
    "#face and the eye in  the given frame\n",
    "\n",
    "for f in file_list:\n",
    "    img= cv2.imread(f,cv2.IMREAD_COLOR)\n",
    "    icopy= img.copy()\n",
    "    itest= cv2.cvtColor(icopy,cv2.COLOR_BGR2GRAY)\n",
    "    \n",
    "    faceCascade= cv2.CascadeClassifier('haarcascade_frontalface_default.xml')\n",
    "    eyeCascade= cv2.CascadeClassifier('haarcascade_eye.xml')\n",
    "    \n",
    "    face= faceCascade.detectMultiScale(itest,scaleFactor=2,minNeighbors= 5)\n",
    "    \n",
    "    if(len(face)==0):\n",
    "        print(\"face not found\")\n",
    "    else:print('total number of faces found is :',len(face))\n",
    "   \n",
    "    \n",
    "    for (x,y,w,h) in face:\n",
    "        face_detect= cv2.rectangle(itest,(x,y),(x+w,y+h),(255,0,255),2)\n",
    "        grey= itest[y:y+h,x:x+w]\n",
    "        color= itest[y:y+h,x:x+w]\n",
    "        plt.imshow(face_detect)\n",
    "        plt.show()\n",
    "        \n",
    "        eye= eyeCascade.detectMultiScale(color)\n",
    "        for (ex,ey,ew,eh) in eye:\n",
    "            eye_detect= cv2.rectangle(color,(ex,ey),(ex+ew,ey+eh),(255,25,255),2)\n",
    "            plt.imshow(eye_detect)\n",
    "            plt.show()"
   ]
  },
  {
   "cell_type": "code",
   "execution_count": null,
   "metadata": {},
   "outputs": [],
   "source": [
    "#for profile faces\n",
    "for pro in prof_list:\n",
    "    prf= cv2.imread(pro,cv2.IMREAD_COLOR)\n",
    "    pcopy= prf.copy()\n",
    "    ptest= cv2.cvtColor(pcopy,cv2.COLOR_BGR2GRAY)\n",
    "    \n",
    "    prof_cascade= cv2.CascadeClassifier('haarcascade_profileface.xml')\n",
    "    eye= cv2.CascadeClassifier('haarcascade_eye.xml')\n",
    "    \n",
    "    profile= prof_cascade.detectMultiScale(ptest,scaleFactor= 2,minNeighbors=5)\n",
    "    \n",
    "    if(len(profile)==0):\n",
    "        print(\"face not found\")\n",
    "    else: print(\"face detected\")\n",
    "        \n",
    "    for (px,py,pw,ph) in profile:\n",
    "        pface= cv2.rectangle(ptest,(px,py),(px+pw,py+ph),(255,0,255),2)\n",
    "        pgrey= pface[py:px+ph,px:px+pw]\n",
    "        pcolor= pface[py:px+ph,px:px+pw]  \n",
    "        plt.imshow(pface)\n",
    "        plt.show()\n",
    "        \n",
    "        profeye= eye.detectMultiScale(pcolor)\n",
    "        for (epx,epy,epw,eph) in profeye:\n",
    "            peye= cv2.rectangle(pcolor,(epx,epy),(epx+epw,epy+eph),(255,0,255),2)\n",
    "            plt.imshow(peye)\n",
    "            plt.show()"
   ]
  },
  {
   "cell_type": "code",
   "execution_count": null,
   "metadata": {},
   "outputs": [],
   "source": []
  }
 ],
 "metadata": {
  "kernelspec": {
   "display_name": "Python 3",
   "language": "python",
   "name": "python3"
  },
  "language_info": {
   "codemirror_mode": {
    "name": "ipython",
    "version": 3
   },
   "file_extension": ".py",
   "mimetype": "text/x-python",
   "name": "python",
   "nbconvert_exporter": "python",
   "pygments_lexer": "ipython3",
   "version": "3.6.5"
  }
 },
 "nbformat": 4,
 "nbformat_minor": 2
}
