{
 "cells": [
  {
   "cell_type": "code",
   "execution_count": 1,
   "metadata": {},
   "outputs": [
    {
     "name": "stdout",
     "output_type": "stream",
     "text": [
      "pygame 1.9.4\n",
      "Hello from the pygame community. https://www.pygame.org/contribute.html\n"
     ]
    }
   ],
   "source": [
    "import pygame\n",
    "import random"
   ]
  },
  {
   "cell_type": "code",
   "execution_count": 2,
   "metadata": {},
   "outputs": [],
   "source": [
    "pygame.init()\n",
    "size= width,height= 400,300\n",
    "back_color= pygame.Color('black')\n",
    "fps= 60"
   ]
  },
  {
   "cell_type": "code",
   "execution_count": 3,
   "metadata": {},
   "outputs": [],
   "source": [
    "class ImageSprite(pygame.sprite.Sprite):\n",
    "    def __init__(self):\n",
    "        super(ImageSprite,self).__init__()\n",
    "        self.images= []\n",
    "        #loading multiple images to create the sprite array\n",
    "        self.images.append(pygame.image.load('C:/Users/anshu/minor_notebook/mask/image0.jpg'))\n",
    "        self.images.append(pygame.image.load('C:/Users/anshu/minor_notebook/mask/image1.jpg'))\n",
    "        self.images.append(pygame.image.load('C:/Users/anshu/minor_notebook/mask/image2.jpg'))\n",
    "        self.images.append(pygame.image.load('C:/Users/anshu/minor_notebook/mask/image3.jpg'))\n",
    "        self.images.append(pygame.image.load('C:/Users/anshu/minor_notebook/mask/image4.jpg'))\n",
    "        self.images.append(pygame.image.load('C:/Users/anshu/minor_notebook/mask/image5.jpg'))\n",
    "        self.images.append(pygame.image.load('C:/Users/anshu/minor_notebook/mask/image6.jpg'))\n",
    "        self.images.append(pygame.image.load('C:/Users/anshu/minor_notebook/mask/image7.jpg'))\n",
    "        self.images.append(pygame.image.load('C:/Users/anshu/minor_notebook/mask/image8.jpg'))\n",
    "        self.images.append(pygame.image.load('C:/Users/anshu/minor_notebook/mask/image9.jpg'))\n",
    "        self.images.append(pygame.image.load('C:/Users/anshu/minor_notebook/mask/image10.jpg'))\n",
    "        self.images.append(pygame.image.load('C:/Users/anshu/minor_notebook/mask/image11.jpg'))\n",
    "        self.images.append(pygame.image.load('C:/Users/anshu/minor_notebook/mask/image12.jpg'))\n",
    "        \n",
    "        \n",
    "       \n",
    "        self.index =0\n",
    "        self.image= self.images[self.index]\n",
    "        \n",
    "        self.rect= pygame.Rect(5,5,300,400)\n",
    "                \n",
    "    #update function to change the images \n",
    "    def update(self):\n",
    "        self.index+=1\n",
    "        \n",
    "        if self.index>=len(self.images):\n",
    "            self.index=0\n",
    "            \n",
    "        #generating snow flakes for the background\n",
    "        Snowflakes=[]\n",
    "        white=(255,255,255)\n",
    "        black=(0,0,0)\n",
    "        for q in range(100):\n",
    "            x= random.randrange(0,400)#areas of screen covered\n",
    "            y= random.randrange(0,290)#areas of screen covered\n",
    "            Snowflakes.append([x,y])\n",
    "        \n",
    "        for i in Snowflakes:\n",
    "            i[1]+=1\n",
    "            pygame.draw.circle(self.image,white,i,4)#generating snow flakes of radius 4\n",
    "            if i[1]>290:\n",
    "                i[1]= random.randrange(-50,3)#randomly beginning the snow fall from the start\n",
    "                i[0]= random.randrange(400)\n",
    "        \n",
    "        pygame.display.flip()#updating the image with the snowfall\n",
    "        \n",
    "        self.image= self.images[self.index]#value increment to get the next image from the self.image array\n",
    "        "
   ]
  },
  {
   "cell_type": "code",
   "execution_count": 4,
   "metadata": {},
   "outputs": [],
   "source": [
    "def main():\n",
    "    pygame.init()\n",
    "    screen= pygame.display.set_mode(size)#surface size\n",
    "    msprite= ImageSprite()#object of sprite class\n",
    "    group= pygame.sprite.Group(msprite)#creating a group of sprites\n",
    "    clock= pygame.time.Clock()#initializing the timer\n",
    "    start_tick= pygame.time.get_ticks()#start time of the event\n",
    "    while True:\n",
    "        for event in pygame.event.get():\n",
    "            if event.type == pygame.QUIT:\n",
    "                pygame.quit()\n",
    "                quit()\n",
    "        \n",
    "        group.update()\n",
    "        screen.fill(back_color)#background color\n",
    "        group.draw(screen)\n",
    "        pygame.display.update()\n",
    "        clock.tick(5)#fps\n",
    "        second= (pygame.time.get_ticks()-start_tick)/1000 #to obtain the total time \n",
    "        if second>10:\n",
    "            pygame.quit()\n",
    "            quit()\n",
    "        "
   ]
  },
  {
   "cell_type": "code",
   "execution_count": 5,
   "metadata": {},
   "outputs": [
    {
     "ename": "error",
     "evalue": "video system not initialized",
     "output_type": "error",
     "traceback": [
      "\u001b[1;31m---------------------------------------------------------------------------\u001b[0m",
      "\u001b[1;31merror\u001b[0m                                     Traceback (most recent call last)",
      "\u001b[1;32m<ipython-input-5-c7bc734e5e35>\u001b[0m in \u001b[0;36m<module>\u001b[1;34m()\u001b[0m\n\u001b[0;32m      1\u001b[0m \u001b[1;32mif\u001b[0m \u001b[0m__name__\u001b[0m \u001b[1;33m==\u001b[0m \u001b[1;34m'__main__'\u001b[0m\u001b[1;33m:\u001b[0m\u001b[1;33m\u001b[0m\u001b[0m\n\u001b[1;32m----> 2\u001b[1;33m     \u001b[0mmain\u001b[0m\u001b[1;33m(\u001b[0m\u001b[1;33m)\u001b[0m\u001b[1;33m\u001b[0m\u001b[0m\n\u001b[0m",
      "\u001b[1;32m<ipython-input-4-a28e4d0cf7c9>\u001b[0m in \u001b[0;36mmain\u001b[1;34m()\u001b[0m\n\u001b[0;32m      7\u001b[0m     \u001b[0mstart_tick\u001b[0m\u001b[1;33m=\u001b[0m \u001b[0mpygame\u001b[0m\u001b[1;33m.\u001b[0m\u001b[0mtime\u001b[0m\u001b[1;33m.\u001b[0m\u001b[0mget_ticks\u001b[0m\u001b[1;33m(\u001b[0m\u001b[1;33m)\u001b[0m\u001b[1;31m#start time of the event\u001b[0m\u001b[1;33m\u001b[0m\u001b[0m\n\u001b[0;32m      8\u001b[0m     \u001b[1;32mwhile\u001b[0m \u001b[1;32mTrue\u001b[0m\u001b[1;33m:\u001b[0m\u001b[1;33m\u001b[0m\u001b[0m\n\u001b[1;32m----> 9\u001b[1;33m         \u001b[1;32mfor\u001b[0m \u001b[0mevent\u001b[0m \u001b[1;32min\u001b[0m \u001b[0mpygame\u001b[0m\u001b[1;33m.\u001b[0m\u001b[0mevent\u001b[0m\u001b[1;33m.\u001b[0m\u001b[0mget\u001b[0m\u001b[1;33m(\u001b[0m\u001b[1;33m)\u001b[0m\u001b[1;33m:\u001b[0m\u001b[1;33m\u001b[0m\u001b[0m\n\u001b[0m\u001b[0;32m     10\u001b[0m             \u001b[1;32mif\u001b[0m \u001b[0mevent\u001b[0m\u001b[1;33m.\u001b[0m\u001b[0mtype\u001b[0m \u001b[1;33m==\u001b[0m \u001b[0mpygame\u001b[0m\u001b[1;33m.\u001b[0m\u001b[0mQUIT\u001b[0m\u001b[1;33m:\u001b[0m\u001b[1;33m\u001b[0m\u001b[0m\n\u001b[0;32m     11\u001b[0m                 \u001b[0mpygame\u001b[0m\u001b[1;33m.\u001b[0m\u001b[0mquit\u001b[0m\u001b[1;33m(\u001b[0m\u001b[1;33m)\u001b[0m\u001b[1;33m\u001b[0m\u001b[0m\n",
      "\u001b[1;31merror\u001b[0m: video system not initialized"
     ]
    }
   ],
   "source": [
    "if __name__ == '__main__':\n",
    "    main()"
   ]
  },
  {
   "cell_type": "code",
   "execution_count": null,
   "metadata": {},
   "outputs": [],
   "source": []
  },
  {
   "cell_type": "code",
   "execution_count": null,
   "metadata": {},
   "outputs": [],
   "source": []
  }
 ],
 "metadata": {
  "kernelspec": {
   "display_name": "Python 3",
   "language": "python",
   "name": "python3"
  },
  "language_info": {
   "codemirror_mode": {
    "name": "ipython",
    "version": 3
   },
   "file_extension": ".py",
   "mimetype": "text/x-python",
   "name": "python",
   "nbconvert_exporter": "python",
   "pygments_lexer": "ipython3",
   "version": "3.6.5"
  }
 },
 "nbformat": 4,
 "nbformat_minor": 2
}
