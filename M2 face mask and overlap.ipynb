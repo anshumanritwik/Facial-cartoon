{
 "cells": [
  {
   "cell_type": "code",
   "execution_count": 156,
   "metadata": {},
   "outputs": [],
   "source": [
    "# import the necessary packages\n",
    "#from pyimagesearch import imutils\n",
    "import numpy as np\n",
    "import argparse\n",
    "import cv2\n",
    "from PIL import Image\n",
    "import glob\n",
    "import matplotlib.pyplot as plt\n",
    "\n",
    "# define the upper and lower boundaries of the HSV pixel\n",
    "# intensities to be considered 'skin'\n",
    "lower = np.array([0, 48, 80], dtype = \"uint8\") # light shade of blue\n",
    "upper = np.array([20, 255, 255], dtype = \"uint8\") # dark shade of blue\n",
    "white = np.array([255,255,255],dtype=\"uint8\" )\n",
    "black = np.array([0,0,0],dtype=\"uint8\" )"
   ]
  },
  {
   "cell_type": "markdown",
   "metadata": {},
   "source": [
    "# ---------------------------------------------------------------------------------------------------------------\n",
    "### images at various angles added to the list\n",
    "# ---------------------------------------------------------------------------------------------------------------"
   ]
  },
  {
   "cell_type": "code",
   "execution_count": 149,
   "metadata": {},
   "outputs": [
    {
     "name": "stdout",
     "output_type": "stream",
     "text": [
      "55\n",
      "['D:/CV/seqcolor\\\\person01140+0-90.jpg', 'D:/CV/seqcolor\\\\person01141+0-75.jpg', 'D:/CV/seqcolor\\\\person01142+0-60.jpg', 'D:/CV/seqcolor\\\\person01143+0-45.jpg', 'D:/CV/seqcolor\\\\person01144+0-30.jpg', 'D:/CV/seqcolor\\\\person01145+0-15.jpg', 'D:/CV/seqcolor\\\\person01146+0+0.jpg', 'D:/CV/seqcolor\\\\person01147+0+15.jpg', 'D:/CV/seqcolor\\\\person01148+0+30.jpg', 'D:/CV/seqcolor\\\\person01149+0+45.jpg', 'D:/CV/seqcolor\\\\person01150+0+60.jpg', 'D:/CV/seqcolor\\\\person01151+0+75.jpg', 'D:/CV/seqcolor\\\\person01152+0+90.jpg', 'D:/CV/seqcolor\\\\person02140+0-90.jpg', 'D:/CV/seqcolor\\\\person02141+0-75.jpg', 'D:/CV/seqcolor\\\\person02142+0-60.jpg', 'D:/CV/seqcolor\\\\person02143+0-45.jpg', 'D:/CV/seqcolor\\\\person02144+0-30.jpg', 'D:/CV/seqcolor\\\\person02145+0-15.jpg', 'D:/CV/seqcolor\\\\person02146+0+0.jpg', 'D:/CV/seqcolor\\\\person02147+0+15.jpg', 'D:/CV/seqcolor\\\\person02148+0+30.jpg', 'D:/CV/seqcolor\\\\person02149+0+45.jpg', 'D:/CV/seqcolor\\\\person02150+0+60.jpg', 'D:/CV/seqcolor\\\\person02151+0+75.jpg', 'D:/CV/seqcolor\\\\person02152+0+90.jpg', 'D:/CV/seqcolor\\\\person03140+0-90.jpg', 'D:/CV/seqcolor\\\\person03141+0-75.jpg', 'D:/CV/seqcolor\\\\person03142+0-60.jpg', 'D:/CV/seqcolor\\\\person03143+0-45.jpg', 'D:/CV/seqcolor\\\\person03144+0-30.jpg', 'D:/CV/seqcolor\\\\person03145+0-15.jpg', 'D:/CV/seqcolor\\\\person03146+0+0.jpg', 'D:/CV/seqcolor\\\\person03147+0+15.jpg', 'D:/CV/seqcolor\\\\person03148+0+30.jpg', 'D:/CV/seqcolor\\\\person03149+0+45.jpg', 'D:/CV/seqcolor\\\\person03150+0+60.jpg', 'D:/CV/seqcolor\\\\person03151+0+75.jpg', 'D:/CV/seqcolor\\\\person03152+0+90.jpg', 'D:/CV/seqcolor\\\\person04140+0-90.jpg', 'D:/CV/seqcolor\\\\person04141+0-75.jpg', 'D:/CV/seqcolor\\\\person04142+0-60.jpg', 'D:/CV/seqcolor\\\\person04143+0-45.jpg', 'D:/CV/seqcolor\\\\person04144+0-30.jpg', 'D:/CV/seqcolor\\\\person04145+0-15.jpg', 'D:/CV/seqcolor\\\\person04146+0+0.jpg', 'D:/CV/seqcolor\\\\person04147+0+15.jpg', 'D:/CV/seqcolor\\\\person04148+0+30.jpg', 'D:/CV/seqcolor\\\\person04149+0+45.jpg', 'D:/CV/seqcolor\\\\person04150+0+60.jpg', 'D:/CV/seqcolor\\\\person04151+0+75.jpg', 'D:/CV/seqcolor\\\\person04152+0+90.jpg', 'D:/CV/seqcolor\\\\res1.jpg', 'D:/CV/seqcolor\\\\res34.jpg', 'D:/CV/seqcolor\\\\res35.jpg']\n"
     ]
    }
   ],
   "source": [
    "image=[]\n",
    "for ifile in glob.glob(\"D:/CV/seqcolor/*jpg\"):\n",
    "    image.append(ifile)\n",
    "print(len(image))\n",
    "print(image)"
   ]
  },
  {
   "cell_type": "markdown",
   "metadata": {},
   "source": [
    "### --------------------------------------------------------------------------------------------------------------------------------------------------------------\n",
    "### generating mask for each of the images\n",
    "### --------------------------------------------------------------------------------------------------------------------------------------------------------------"
   ]
  },
  {
   "cell_type": "code",
   "execution_count": 150,
   "metadata": {},
   "outputs": [],
   "source": [
    "m=[]\n",
    "def mask(imageM):\n",
    "    for file in imageM:\n",
    "        img= cv2.imread(file)\n",
    "        converted= cv2.cvtColor(img,cv2.COLOR_BGR2HSV) #BGR2HSV hue saturation and value\n",
    "        skin_mask= cv2.inRange(converted,lower,upper) #extract the part which is between the specified range colors\n",
    "        kernel= cv2.getStructuringElement(cv2.MORPH_ELLIPSE,(11,11)) #structuring element of eliptical shape and 11,11 dimension\n",
    "        skin_mask= cv2.dilate(skin_mask,kernel,iterations=2) #dialation of the edges\n",
    "        skin_mask= cv2.GaussianBlur(skin_mask, (3,3),0) # smoothening of the edges\n",
    "        skin_mask=  cv2.cvtColor(skin_mask,cv2.COLOR_GRAY2RGB) #converting the image back to 3 channel image\n",
    "        mat= np.array(skin_mask)\n",
    "        rows,cols,channels= mat.shape\n",
    "        for i in range(rows):\n",
    "            for j in range(cols):\n",
    "                if(mat[i,j,1]!=0):\n",
    "                    mat[i,j,1]=210 #color shade nearest to skin color\n",
    "            \n",
    "        for i in range(rows):\n",
    "            for j in range(cols):\n",
    "                if(mat[i,j,2]!=0):\n",
    "                    mat[i,j,2]= 210\n",
    "        mat= cv2.cvtColor(mat,cv2.COLOR_BGR2RGB) #converting BGR image back to RGB\n",
    "        m.append(mat)\n",
    "    #print(m)\n",
    "    return m"
   ]
  },
  {
   "cell_type": "markdown",
   "metadata": {},
   "source": [
    "### --------------------------------------------------------------------------------------------------------------------------------------------------------------\n",
    "### generating the black and white outline of the face.\n",
    "### --------------------------------------------------------------------------------------------------------------------------------------------------------------"
   ]
  },
  {
   "cell_type": "code",
   "execution_count": 151,
   "metadata": {},
   "outputs": [],
   "source": [
    "bound=[]\n",
    "def threshold(imageB):\n",
    "    for file in imageB:\n",
    "        img= cv2.imread(file)\n",
    "        ed= cv2.cvtColor(img,cv2.COLOR_BGR2GRAY) #color image to black and white because thresholding cannot be done on color\n",
    "        ed= cv2.adaptiveThreshold(ed,255,cv2.ADAPTIVE_THRESH_MEAN_C,cv2.THRESH_BINARY,15,3)\n",
    "        ed= cv2.fastNlMeansDenoising(ed,50,7,21)\n",
    "        ed=cv2.medianBlur(ed,3)\n",
    "        ed= cv2.cvtColor(ed,cv2.COLOR_GRAY2RGB)\n",
    "        bound.append(ed)\n",
    "    #print(bound)\n",
    "    return bound"
   ]
  },
  {
   "cell_type": "code",
   "execution_count": 152,
   "metadata": {},
   "outputs": [],
   "source": [
    "value1= mask(image)\n",
    "value2= threshold(image)"
   ]
  },
  {
   "cell_type": "markdown",
   "metadata": {},
   "source": [
    "### --------------------------------------------------------------------------------------------------------------------------------------------------------------\n",
    "### combining the mask and the outline with opacity being alpha and beta \n",
    "### --------------------------------------------------------------------------------------------------------------------------------------------------------------"
   ]
  },
  {
   "cell_type": "code",
   "execution_count": 153,
   "metadata": {},
   "outputs": [],
   "source": [
    "def combine(Mvalue,Bvalue):\n",
    "    count=0\n",
    "    for (i,j) in zip(Mvalue,Bvalue):\n",
    "        I= cv2.addWeighted(j,0.75,i,0.25,0.0)\n",
    "        cv2.imwrite('mask/image'+str(count)+'.jpg',I)\n",
    "        count=count+1\n",
    "    return 0\n",
    "\n",
    "    "
   ]
  },
  {
   "cell_type": "code",
   "execution_count": 154,
   "metadata": {},
   "outputs": [
    {
     "name": "stdout",
     "output_type": "stream",
     "text": [
      "55\n",
      "55\n"
     ]
    },
    {
     "data": {
      "text/plain": [
       "0"
      ]
     },
     "execution_count": 154,
     "metadata": {},
     "output_type": "execute_result"
    }
   ],
   "source": [
    "print(len(value1))\n",
    "print(len(value2))\n",
    "combine(value1,value2)"
   ]
  },
  {
   "cell_type": "code",
   "execution_count": null,
   "metadata": {},
   "outputs": [],
   "source": []
  }
 ],
 "metadata": {
  "kernelspec": {
   "display_name": "Python 3",
   "language": "python",
   "name": "python3"
  },
  "language_info": {
   "codemirror_mode": {
    "name": "ipython",
    "version": 3
   },
   "file_extension": ".py",
   "mimetype": "text/x-python",
   "name": "python",
   "nbconvert_exporter": "python",
   "pygments_lexer": "ipython3",
   "version": "3.6.5"
  }
 },
 "nbformat": 4,
 "nbformat_minor": 2
}
